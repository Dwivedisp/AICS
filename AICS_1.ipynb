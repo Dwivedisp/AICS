{
  "nbformat": 4,
  "nbformat_minor": 0,
  "metadata": {
    "colab": {
      "provenance": [],
      "authorship_tag": "ABX9TyOaSciG4rZbj+0b4jYRYr99",
      "include_colab_link": true
    },
    "kernelspec": {
      "name": "python3",
      "display_name": "Python 3"
    },
    "language_info": {
      "name": "python"
    }
  },
  "cells": [
    {
      "cell_type": "markdown",
      "metadata": {
        "id": "view-in-github",
        "colab_type": "text"
      },
      "source": [
        "<a href=\"https://colab.research.google.com/github/Dwivedisp/code/blob/main/AICS_1.ipynb\" target=\"_parent\"><img src=\"https://colab.research.google.com/assets/colab-badge.svg\" alt=\"Open In Colab\"/></a>"
      ]
    },
    {
      "cell_type": "code",
      "execution_count": 1,
      "metadata": {
        "colab": {
          "base_uri": "https://localhost:8080/"
        },
        "id": "Z2KZWs29upfO",
        "outputId": "803835aa-558a-4a79-88eb-526e2f88d972"
      },
      "outputs": [
        {
          "output_type": "stream",
          "name": "stdout",
          "text": [
            "21 45 93 "
          ]
        }
      ],
      "source": [
        "# Python program to print odd Numbers in a List\n",
        " \n",
        "# list of numbers\n",
        "list1 = [10, 21, 4, 45, 66, 93]\n",
        " \n",
        "# iterating each number in list\n",
        "for num in list1:\n",
        "     \n",
        "    # checking condition\n",
        "    if num % 2 != 0:\n",
        "       print(num, end = \" \")"
      ]
    },
    {
      "cell_type": "code",
      "source": [
        "list2 =['java','c++','python','c#']\n",
        "list2.reverse()\n",
        "print(list2)"
      ],
      "metadata": {
        "colab": {
          "base_uri": "https://localhost:8080/"
        },
        "id": "h_RY8Q_evgYH",
        "outputId": "2e6cb79d-d151-455c-d666-43b261ff94af"
      },
      "execution_count": 3,
      "outputs": [
        {
          "output_type": "stream",
          "name": "stdout",
          "text": [
            "['c#', 'python', 'c++', 'java']\n"
          ]
        }
      ]
    },
    {
      "cell_type": "code",
      "source": [
        "list3 =[5, 6, 2, 1, 9, 4]\n",
        "list3.sort()\n",
        "print(list3)"
      ],
      "metadata": {
        "colab": {
          "base_uri": "https://localhost:8080/"
        },
        "id": "FfQ7vqGvwAG8",
        "outputId": "ef1f94a2-1b9b-4673-9376-276f81afce35"
      },
      "execution_count": 4,
      "outputs": [
        {
          "output_type": "stream",
          "name": "stdout",
          "text": [
            "[1, 2, 4, 5, 6, 9]\n"
          ]
        }
      ]
    },
    {
      "cell_type": "code",
      "source": [
        "thisdict =\t{\n",
        "  \"1\": \"A\",\n",
        "  \"2\": \"B\",\n",
        "  \"3\": \"C\"\n",
        "}\n",
        "x = thisdict.get(\"2\")\n",
        "print(x)\n"
      ],
      "metadata": {
        "colab": {
          "base_uri": "https://localhost:8080/"
        },
        "id": "QoeRbfnGxg4f",
        "outputId": "3ecc6d65-6e69-4393-af9b-575a3a21a67c"
      },
      "execution_count": 7,
      "outputs": [
        {
          "output_type": "stream",
          "name": "stdout",
          "text": [
            "B\n"
          ]
        }
      ]
    },
    {
      "cell_type": "code",
      "source": [
        "thisdict = {\n",
        "  \"1\": \"A\",\n",
        "  \"2\": \"B\",\n",
        "  \"3\": \"C\"\n",
        "}\n",
        "thisdict.pop(\"2\")\n",
        "print(thisdict)"
      ],
      "metadata": {
        "colab": {
          "base_uri": "https://localhost:8080/"
        },
        "id": "GgB6fUzIyILx",
        "outputId": "6b928a2c-c3a1-4268-ed4f-29046f9081ce"
      },
      "execution_count": 8,
      "outputs": [
        {
          "output_type": "stream",
          "name": "stdout",
          "text": [
            "{'1': 'A', '3': 'C'}\n"
          ]
        }
      ]
    },
    {
      "cell_type": "code",
      "source": [
        "thisdict = {\n",
        "   \"1\": \"A\",\n",
        "  \"2\": \"B\",\n",
        "  \"3\": \"C\"\n",
        "}\n",
        "thisdict[\"3\"] = 'XYZ'\n",
        "print(thisdict)"
      ],
      "metadata": {
        "colab": {
          "base_uri": "https://localhost:8080/"
        },
        "id": "DOXLmtE8yYJ7",
        "outputId": "48f8aec9-4fec-49e7-81ac-3bf958a1315d"
      },
      "execution_count": 11,
      "outputs": [
        {
          "output_type": "stream",
          "name": "stdout",
          "text": [
            "{'1': 'A', '2': 'B', '3': 'XYZ'}\n"
          ]
        }
      ]
    }
  ]
}