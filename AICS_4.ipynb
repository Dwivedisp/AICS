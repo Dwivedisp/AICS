{
  "nbformat": 4,
  "nbformat_minor": 0,
  "metadata": {
    "colab": {
      "provenance": [],
      "include_colab_link": true
    },
    "kernelspec": {
      "name": "python3",
      "display_name": "Python 3"
    },
    "language_info": {
      "name": "python"
    }
  },
  "cells": [
    {
      "cell_type": "markdown",
      "metadata": {
        "id": "view-in-github",
        "colab_type": "text"
      },
      "source": [
        "<a href=\"https://colab.research.google.com/github/Dwivedisp/AICS/blob/main/AICS4.ipynb\" target=\"_parent\"><img src=\"https://colab.research.google.com/assets/colab-badge.svg\" alt=\"Open In Colab\"/></a>"
      ]
    },
    {
      "cell_type": "code",
      "source": [
        "import numpy as np\n",
        "import matplotlib.pyplot as plt\n",
        "import pandas as pd"
      ],
      "metadata": {
        "id": "H9OF9DBHlbuD"
      },
      "execution_count": null,
      "outputs": []
    },
    {
      "cell_type": "code",
      "source": [
        "dataset = pd.read_csv('/content/Social_Network_Ads.csv')"
      ],
      "metadata": {
        "id": "F__Wp6dVnrpn"
      },
      "execution_count": null,
      "outputs": []
    },
    {
      "cell_type": "code",
      "source": [
        "dataset.head()"
      ],
      "metadata": {
        "colab": {
          "base_uri": "https://localhost:8080/",
          "height": 206
        },
        "id": "vC3cgKqOn_DK",
        "outputId": "455ebe1f-c05f-4348-9c53-3a9084e92ce8"
      },
      "execution_count": null,
      "outputs": [
        {
          "output_type": "execute_result",
          "data": {
            "text/plain": [
              "   Age  EstimatedSalary  Purchased\n",
              "0   19            19000          0\n",
              "1   35            20000          0\n",
              "2   26            43000          0\n",
              "3   27            57000          0\n",
              "4   19            76000          0"
            ],
            "text/html": [
              "\n",
              "  <div id=\"df-4d131d96-2ee0-4022-9c86-16a2b8f24717\">\n",
              "    <div class=\"colab-df-container\">\n",
              "      <div>\n",
              "<style scoped>\n",
              "    .dataframe tbody tr th:only-of-type {\n",
              "        vertical-align: middle;\n",
              "    }\n",
              "\n",
              "    .dataframe tbody tr th {\n",
              "        vertical-align: top;\n",
              "    }\n",
              "\n",
              "    .dataframe thead th {\n",
              "        text-align: right;\n",
              "    }\n",
              "</style>\n",
              "<table border=\"1\" class=\"dataframe\">\n",
              "  <thead>\n",
              "    <tr style=\"text-align: right;\">\n",
              "      <th></th>\n",
              "      <th>Age</th>\n",
              "      <th>EstimatedSalary</th>\n",
              "      <th>Purchased</th>\n",
              "    </tr>\n",
              "  </thead>\n",
              "  <tbody>\n",
              "    <tr>\n",
              "      <th>0</th>\n",
              "      <td>19</td>\n",
              "      <td>19000</td>\n",
              "      <td>0</td>\n",
              "    </tr>\n",
              "    <tr>\n",
              "      <th>1</th>\n",
              "      <td>35</td>\n",
              "      <td>20000</td>\n",
              "      <td>0</td>\n",
              "    </tr>\n",
              "    <tr>\n",
              "      <th>2</th>\n",
              "      <td>26</td>\n",
              "      <td>43000</td>\n",
              "      <td>0</td>\n",
              "    </tr>\n",
              "    <tr>\n",
              "      <th>3</th>\n",
              "      <td>27</td>\n",
              "      <td>57000</td>\n",
              "      <td>0</td>\n",
              "    </tr>\n",
              "    <tr>\n",
              "      <th>4</th>\n",
              "      <td>19</td>\n",
              "      <td>76000</td>\n",
              "      <td>0</td>\n",
              "    </tr>\n",
              "  </tbody>\n",
              "</table>\n",
              "</div>\n",
              "      <button class=\"colab-df-convert\" onclick=\"convertToInteractive('df-4d131d96-2ee0-4022-9c86-16a2b8f24717')\"\n",
              "              title=\"Convert this dataframe to an interactive table.\"\n",
              "              style=\"display:none;\">\n",
              "        \n",
              "  <svg xmlns=\"http://www.w3.org/2000/svg\" height=\"24px\"viewBox=\"0 0 24 24\"\n",
              "       width=\"24px\">\n",
              "    <path d=\"M0 0h24v24H0V0z\" fill=\"none\"/>\n",
              "    <path d=\"M18.56 5.44l.94 2.06.94-2.06 2.06-.94-2.06-.94-.94-2.06-.94 2.06-2.06.94zm-11 1L8.5 8.5l.94-2.06 2.06-.94-2.06-.94L8.5 2.5l-.94 2.06-2.06.94zm10 10l.94 2.06.94-2.06 2.06-.94-2.06-.94-.94-2.06-.94 2.06-2.06.94z\"/><path d=\"M17.41 7.96l-1.37-1.37c-.4-.4-.92-.59-1.43-.59-.52 0-1.04.2-1.43.59L10.3 9.45l-7.72 7.72c-.78.78-.78 2.05 0 2.83L4 21.41c.39.39.9.59 1.41.59.51 0 1.02-.2 1.41-.59l7.78-7.78 2.81-2.81c.8-.78.8-2.07 0-2.86zM5.41 20L4 18.59l7.72-7.72 1.47 1.35L5.41 20z\"/>\n",
              "  </svg>\n",
              "      </button>\n",
              "      \n",
              "  <style>\n",
              "    .colab-df-container {\n",
              "      display:flex;\n",
              "      flex-wrap:wrap;\n",
              "      gap: 12px;\n",
              "    }\n",
              "\n",
              "    .colab-df-convert {\n",
              "      background-color: #E8F0FE;\n",
              "      border: none;\n",
              "      border-radius: 50%;\n",
              "      cursor: pointer;\n",
              "      display: none;\n",
              "      fill: #1967D2;\n",
              "      height: 32px;\n",
              "      padding: 0 0 0 0;\n",
              "      width: 32px;\n",
              "    }\n",
              "\n",
              "    .colab-df-convert:hover {\n",
              "      background-color: #E2EBFA;\n",
              "      box-shadow: 0px 1px 2px rgba(60, 64, 67, 0.3), 0px 1px 3px 1px rgba(60, 64, 67, 0.15);\n",
              "      fill: #174EA6;\n",
              "    }\n",
              "\n",
              "    [theme=dark] .colab-df-convert {\n",
              "      background-color: #3B4455;\n",
              "      fill: #D2E3FC;\n",
              "    }\n",
              "\n",
              "    [theme=dark] .colab-df-convert:hover {\n",
              "      background-color: #434B5C;\n",
              "      box-shadow: 0px 1px 3px 1px rgba(0, 0, 0, 0.15);\n",
              "      filter: drop-shadow(0px 1px 2px rgba(0, 0, 0, 0.3));\n",
              "      fill: #FFFFFF;\n",
              "    }\n",
              "  </style>\n",
              "\n",
              "      <script>\n",
              "        const buttonEl =\n",
              "          document.querySelector('#df-4d131d96-2ee0-4022-9c86-16a2b8f24717 button.colab-df-convert');\n",
              "        buttonEl.style.display =\n",
              "          google.colab.kernel.accessAllowed ? 'block' : 'none';\n",
              "\n",
              "        async function convertToInteractive(key) {\n",
              "          const element = document.querySelector('#df-4d131d96-2ee0-4022-9c86-16a2b8f24717');\n",
              "          const dataTable =\n",
              "            await google.colab.kernel.invokeFunction('convertToInteractive',\n",
              "                                                     [key], {});\n",
              "          if (!dataTable) return;\n",
              "\n",
              "          const docLinkHtml = 'Like what you see? Visit the ' +\n",
              "            '<a target=\"_blank\" href=https://colab.research.google.com/notebooks/data_table.ipynb>data table notebook</a>'\n",
              "            + ' to learn more about interactive tables.';\n",
              "          element.innerHTML = '';\n",
              "          dataTable['output_type'] = 'display_data';\n",
              "          await google.colab.output.renderOutput(dataTable, element);\n",
              "          const docLink = document.createElement('div');\n",
              "          docLink.innerHTML = docLinkHtml;\n",
              "          element.appendChild(docLink);\n",
              "        }\n",
              "      </script>\n",
              "    </div>\n",
              "  </div>\n",
              "  "
            ]
          },
          "metadata": {},
          "execution_count": 43
        }
      ]
    },
    {
      "cell_type": "code",
      "source": [
        "dataset.iloc[:,2:4]"
      ],
      "metadata": {
        "colab": {
          "base_uri": "https://localhost:8080/",
          "height": 424
        },
        "id": "XwAyNzFSoB0y",
        "outputId": "b99bed42-0ddd-4c5a-dd35-f63a0218f287"
      },
      "execution_count": null,
      "outputs": [
        {
          "output_type": "execute_result",
          "data": {
            "text/plain": [
              "     Purchased\n",
              "0            0\n",
              "1            0\n",
              "2            0\n",
              "3            0\n",
              "4            0\n",
              "..         ...\n",
              "395          1\n",
              "396          1\n",
              "397          1\n",
              "398          0\n",
              "399          1\n",
              "\n",
              "[400 rows x 1 columns]"
            ],
            "text/html": [
              "\n",
              "  <div id=\"df-90ce911a-5bc5-4680-aeef-b8cb3c716df8\">\n",
              "    <div class=\"colab-df-container\">\n",
              "      <div>\n",
              "<style scoped>\n",
              "    .dataframe tbody tr th:only-of-type {\n",
              "        vertical-align: middle;\n",
              "    }\n",
              "\n",
              "    .dataframe tbody tr th {\n",
              "        vertical-align: top;\n",
              "    }\n",
              "\n",
              "    .dataframe thead th {\n",
              "        text-align: right;\n",
              "    }\n",
              "</style>\n",
              "<table border=\"1\" class=\"dataframe\">\n",
              "  <thead>\n",
              "    <tr style=\"text-align: right;\">\n",
              "      <th></th>\n",
              "      <th>Purchased</th>\n",
              "    </tr>\n",
              "  </thead>\n",
              "  <tbody>\n",
              "    <tr>\n",
              "      <th>0</th>\n",
              "      <td>0</td>\n",
              "    </tr>\n",
              "    <tr>\n",
              "      <th>1</th>\n",
              "      <td>0</td>\n",
              "    </tr>\n",
              "    <tr>\n",
              "      <th>2</th>\n",
              "      <td>0</td>\n",
              "    </tr>\n",
              "    <tr>\n",
              "      <th>3</th>\n",
              "      <td>0</td>\n",
              "    </tr>\n",
              "    <tr>\n",
              "      <th>4</th>\n",
              "      <td>0</td>\n",
              "    </tr>\n",
              "    <tr>\n",
              "      <th>...</th>\n",
              "      <td>...</td>\n",
              "    </tr>\n",
              "    <tr>\n",
              "      <th>395</th>\n",
              "      <td>1</td>\n",
              "    </tr>\n",
              "    <tr>\n",
              "      <th>396</th>\n",
              "      <td>1</td>\n",
              "    </tr>\n",
              "    <tr>\n",
              "      <th>397</th>\n",
              "      <td>1</td>\n",
              "    </tr>\n",
              "    <tr>\n",
              "      <th>398</th>\n",
              "      <td>0</td>\n",
              "    </tr>\n",
              "    <tr>\n",
              "      <th>399</th>\n",
              "      <td>1</td>\n",
              "    </tr>\n",
              "  </tbody>\n",
              "</table>\n",
              "<p>400 rows × 1 columns</p>\n",
              "</div>\n",
              "      <button class=\"colab-df-convert\" onclick=\"convertToInteractive('df-90ce911a-5bc5-4680-aeef-b8cb3c716df8')\"\n",
              "              title=\"Convert this dataframe to an interactive table.\"\n",
              "              style=\"display:none;\">\n",
              "        \n",
              "  <svg xmlns=\"http://www.w3.org/2000/svg\" height=\"24px\"viewBox=\"0 0 24 24\"\n",
              "       width=\"24px\">\n",
              "    <path d=\"M0 0h24v24H0V0z\" fill=\"none\"/>\n",
              "    <path d=\"M18.56 5.44l.94 2.06.94-2.06 2.06-.94-2.06-.94-.94-2.06-.94 2.06-2.06.94zm-11 1L8.5 8.5l.94-2.06 2.06-.94-2.06-.94L8.5 2.5l-.94 2.06-2.06.94zm10 10l.94 2.06.94-2.06 2.06-.94-2.06-.94-.94-2.06-.94 2.06-2.06.94z\"/><path d=\"M17.41 7.96l-1.37-1.37c-.4-.4-.92-.59-1.43-.59-.52 0-1.04.2-1.43.59L10.3 9.45l-7.72 7.72c-.78.78-.78 2.05 0 2.83L4 21.41c.39.39.9.59 1.41.59.51 0 1.02-.2 1.41-.59l7.78-7.78 2.81-2.81c.8-.78.8-2.07 0-2.86zM5.41 20L4 18.59l7.72-7.72 1.47 1.35L5.41 20z\"/>\n",
              "  </svg>\n",
              "      </button>\n",
              "      \n",
              "  <style>\n",
              "    .colab-df-container {\n",
              "      display:flex;\n",
              "      flex-wrap:wrap;\n",
              "      gap: 12px;\n",
              "    }\n",
              "\n",
              "    .colab-df-convert {\n",
              "      background-color: #E8F0FE;\n",
              "      border: none;\n",
              "      border-radius: 50%;\n",
              "      cursor: pointer;\n",
              "      display: none;\n",
              "      fill: #1967D2;\n",
              "      height: 32px;\n",
              "      padding: 0 0 0 0;\n",
              "      width: 32px;\n",
              "    }\n",
              "\n",
              "    .colab-df-convert:hover {\n",
              "      background-color: #E2EBFA;\n",
              "      box-shadow: 0px 1px 2px rgba(60, 64, 67, 0.3), 0px 1px 3px 1px rgba(60, 64, 67, 0.15);\n",
              "      fill: #174EA6;\n",
              "    }\n",
              "\n",
              "    [theme=dark] .colab-df-convert {\n",
              "      background-color: #3B4455;\n",
              "      fill: #D2E3FC;\n",
              "    }\n",
              "\n",
              "    [theme=dark] .colab-df-convert:hover {\n",
              "      background-color: #434B5C;\n",
              "      box-shadow: 0px 1px 3px 1px rgba(0, 0, 0, 0.15);\n",
              "      filter: drop-shadow(0px 1px 2px rgba(0, 0, 0, 0.3));\n",
              "      fill: #FFFFFF;\n",
              "    }\n",
              "  </style>\n",
              "\n",
              "      <script>\n",
              "        const buttonEl =\n",
              "          document.querySelector('#df-90ce911a-5bc5-4680-aeef-b8cb3c716df8 button.colab-df-convert');\n",
              "        buttonEl.style.display =\n",
              "          google.colab.kernel.accessAllowed ? 'block' : 'none';\n",
              "\n",
              "        async function convertToInteractive(key) {\n",
              "          const element = document.querySelector('#df-90ce911a-5bc5-4680-aeef-b8cb3c716df8');\n",
              "          const dataTable =\n",
              "            await google.colab.kernel.invokeFunction('convertToInteractive',\n",
              "                                                     [key], {});\n",
              "          if (!dataTable) return;\n",
              "\n",
              "          const docLinkHtml = 'Like what you see? Visit the ' +\n",
              "            '<a target=\"_blank\" href=https://colab.research.google.com/notebooks/data_table.ipynb>data table notebook</a>'\n",
              "            + ' to learn more about interactive tables.';\n",
              "          element.innerHTML = '';\n",
              "          dataTable['output_type'] = 'display_data';\n",
              "          await google.colab.output.renderOutput(dataTable, element);\n",
              "          const docLink = document.createElement('div');\n",
              "          docLink.innerHTML = docLinkHtml;\n",
              "          element.appendChild(docLink);\n",
              "        }\n",
              "      </script>\n",
              "    </div>\n",
              "  </div>\n",
              "  "
            ]
          },
          "metadata": {},
          "execution_count": 44
        }
      ]
    },
    {
      "cell_type": "code",
      "source": [
        "dataset.iloc[:,2:4].values"
      ],
      "metadata": {
        "colab": {
          "base_uri": "https://localhost:8080/"
        },
        "id": "AczhXV4loNU_",
        "outputId": "65b8ad58-a9f5-4e9b-c25d-0d4d26b338bf"
      },
      "execution_count": null,
      "outputs": [
        {
          "output_type": "execute_result",
          "data": {
            "text/plain": [
              "array([[0],\n",
              "       [0],\n",
              "       [0],\n",
              "       [0],\n",
              "       [0],\n",
              "       [0],\n",
              "       [0],\n",
              "       [1],\n",
              "       [0],\n",
              "       [0],\n",
              "       [0],\n",
              "       [0],\n",
              "       [0],\n",
              "       [0],\n",
              "       [0],\n",
              "       [0],\n",
              "       [1],\n",
              "       [1],\n",
              "       [1],\n",
              "       [1],\n",
              "       [1],\n",
              "       [1],\n",
              "       [1],\n",
              "       [1],\n",
              "       [1],\n",
              "       [1],\n",
              "       [1],\n",
              "       [1],\n",
              "       [0],\n",
              "       [0],\n",
              "       [0],\n",
              "       [1],\n",
              "       [0],\n",
              "       [0],\n",
              "       [0],\n",
              "       [0],\n",
              "       [0],\n",
              "       [0],\n",
              "       [0],\n",
              "       [0],\n",
              "       [0],\n",
              "       [0],\n",
              "       [0],\n",
              "       [0],\n",
              "       [0],\n",
              "       [0],\n",
              "       [0],\n",
              "       [0],\n",
              "       [1],\n",
              "       [0],\n",
              "       [0],\n",
              "       [0],\n",
              "       [0],\n",
              "       [0],\n",
              "       [0],\n",
              "       [0],\n",
              "       [0],\n",
              "       [0],\n",
              "       [0],\n",
              "       [0],\n",
              "       [0],\n",
              "       [0],\n",
              "       [0],\n",
              "       [1],\n",
              "       [0],\n",
              "       [0],\n",
              "       [0],\n",
              "       [0],\n",
              "       [0],\n",
              "       [0],\n",
              "       [0],\n",
              "       [0],\n",
              "       [0],\n",
              "       [0],\n",
              "       [0],\n",
              "       [1],\n",
              "       [0],\n",
              "       [0],\n",
              "       [0],\n",
              "       [0],\n",
              "       [0],\n",
              "       [0],\n",
              "       [0],\n",
              "       [0],\n",
              "       [0],\n",
              "       [1],\n",
              "       [0],\n",
              "       [0],\n",
              "       [0],\n",
              "       [0],\n",
              "       [0],\n",
              "       [0],\n",
              "       [0],\n",
              "       [0],\n",
              "       [0],\n",
              "       [0],\n",
              "       [0],\n",
              "       [1],\n",
              "       [0],\n",
              "       [0],\n",
              "       [0],\n",
              "       [0],\n",
              "       [0],\n",
              "       [1],\n",
              "       [0],\n",
              "       [0],\n",
              "       [0],\n",
              "       [0],\n",
              "       [0],\n",
              "       [0],\n",
              "       [0],\n",
              "       [0],\n",
              "       [0],\n",
              "       [0],\n",
              "       [0],\n",
              "       [0],\n",
              "       [0],\n",
              "       [0],\n",
              "       [0],\n",
              "       [0],\n",
              "       [0],\n",
              "       [0],\n",
              "       [0],\n",
              "       [0],\n",
              "       [0],\n",
              "       [0],\n",
              "       [0],\n",
              "       [0],\n",
              "       [0],\n",
              "       [0],\n",
              "       [0],\n",
              "       [0],\n",
              "       [0],\n",
              "       [0],\n",
              "       [0],\n",
              "       [0],\n",
              "       [0],\n",
              "       [1],\n",
              "       [0],\n",
              "       [0],\n",
              "       [0],\n",
              "       [0],\n",
              "       [0],\n",
              "       [0],\n",
              "       [0],\n",
              "       [0],\n",
              "       [1],\n",
              "       [0],\n",
              "       [0],\n",
              "       [0],\n",
              "       [0],\n",
              "       [0],\n",
              "       [0],\n",
              "       [0],\n",
              "       [0],\n",
              "       [0],\n",
              "       [0],\n",
              "       [0],\n",
              "       [0],\n",
              "       [1],\n",
              "       [1],\n",
              "       [0],\n",
              "       [0],\n",
              "       [0],\n",
              "       [0],\n",
              "       [0],\n",
              "       [0],\n",
              "       [0],\n",
              "       [1],\n",
              "       [0],\n",
              "       [0],\n",
              "       [0],\n",
              "       [0],\n",
              "       [0],\n",
              "       [0],\n",
              "       [0],\n",
              "       [0],\n",
              "       [0],\n",
              "       [0],\n",
              "       [0],\n",
              "       [0],\n",
              "       [0],\n",
              "       [1],\n",
              "       [0],\n",
              "       [0],\n",
              "       [0],\n",
              "       [0],\n",
              "       [0],\n",
              "       [0],\n",
              "       [0],\n",
              "       [0],\n",
              "       [0],\n",
              "       [0],\n",
              "       [0],\n",
              "       [0],\n",
              "       [0],\n",
              "       [0],\n",
              "       [0],\n",
              "       [0],\n",
              "       [0],\n",
              "       [0],\n",
              "       [0],\n",
              "       [1],\n",
              "       [0],\n",
              "       [1],\n",
              "       [0],\n",
              "       [1],\n",
              "       [0],\n",
              "       [1],\n",
              "       [0],\n",
              "       [1],\n",
              "       [1],\n",
              "       [0],\n",
              "       [0],\n",
              "       [0],\n",
              "       [1],\n",
              "       [0],\n",
              "       [0],\n",
              "       [0],\n",
              "       [1],\n",
              "       [0],\n",
              "       [1],\n",
              "       [1],\n",
              "       [1],\n",
              "       [0],\n",
              "       [0],\n",
              "       [1],\n",
              "       [1],\n",
              "       [0],\n",
              "       [1],\n",
              "       [1],\n",
              "       [0],\n",
              "       [1],\n",
              "       [1],\n",
              "       [0],\n",
              "       [1],\n",
              "       [0],\n",
              "       [0],\n",
              "       [0],\n",
              "       [1],\n",
              "       [1],\n",
              "       [0],\n",
              "       [1],\n",
              "       [1],\n",
              "       [0],\n",
              "       [1],\n",
              "       [0],\n",
              "       [1],\n",
              "       [0],\n",
              "       [1],\n",
              "       [0],\n",
              "       [0],\n",
              "       [1],\n",
              "       [1],\n",
              "       [0],\n",
              "       [1],\n",
              "       [0],\n",
              "       [0],\n",
              "       [1],\n",
              "       [1],\n",
              "       [0],\n",
              "       [1],\n",
              "       [1],\n",
              "       [0],\n",
              "       [1],\n",
              "       [1],\n",
              "       [0],\n",
              "       [0],\n",
              "       [1],\n",
              "       [0],\n",
              "       [0],\n",
              "       [1],\n",
              "       [1],\n",
              "       [1],\n",
              "       [1],\n",
              "       [1],\n",
              "       [0],\n",
              "       [1],\n",
              "       [1],\n",
              "       [1],\n",
              "       [1],\n",
              "       [0],\n",
              "       [1],\n",
              "       [1],\n",
              "       [0],\n",
              "       [1],\n",
              "       [0],\n",
              "       [1],\n",
              "       [0],\n",
              "       [1],\n",
              "       [1],\n",
              "       [1],\n",
              "       [1],\n",
              "       [0],\n",
              "       [0],\n",
              "       [0],\n",
              "       [1],\n",
              "       [1],\n",
              "       [0],\n",
              "       [1],\n",
              "       [1],\n",
              "       [1],\n",
              "       [1],\n",
              "       [1],\n",
              "       [0],\n",
              "       [0],\n",
              "       [0],\n",
              "       [1],\n",
              "       [1],\n",
              "       [0],\n",
              "       [0],\n",
              "       [1],\n",
              "       [0],\n",
              "       [1],\n",
              "       [0],\n",
              "       [1],\n",
              "       [1],\n",
              "       [0],\n",
              "       [1],\n",
              "       [0],\n",
              "       [1],\n",
              "       [1],\n",
              "       [0],\n",
              "       [1],\n",
              "       [1],\n",
              "       [0],\n",
              "       [0],\n",
              "       [0],\n",
              "       [1],\n",
              "       [1],\n",
              "       [0],\n",
              "       [1],\n",
              "       [0],\n",
              "       [0],\n",
              "       [1],\n",
              "       [0],\n",
              "       [1],\n",
              "       [0],\n",
              "       [0],\n",
              "       [1],\n",
              "       [1],\n",
              "       [0],\n",
              "       [0],\n",
              "       [1],\n",
              "       [1],\n",
              "       [0],\n",
              "       [1],\n",
              "       [1],\n",
              "       [0],\n",
              "       [0],\n",
              "       [1],\n",
              "       [0],\n",
              "       [1],\n",
              "       [0],\n",
              "       [1],\n",
              "       [1],\n",
              "       [1],\n",
              "       [0],\n",
              "       [1],\n",
              "       [0],\n",
              "       [1],\n",
              "       [1],\n",
              "       [1],\n",
              "       [0],\n",
              "       [1],\n",
              "       [1],\n",
              "       [1],\n",
              "       [1],\n",
              "       [0],\n",
              "       [1],\n",
              "       [1],\n",
              "       [1],\n",
              "       [0],\n",
              "       [1],\n",
              "       [0],\n",
              "       [1],\n",
              "       [0],\n",
              "       [0],\n",
              "       [1],\n",
              "       [1],\n",
              "       [0],\n",
              "       [1],\n",
              "       [1],\n",
              "       [1],\n",
              "       [1],\n",
              "       [1],\n",
              "       [1],\n",
              "       [0],\n",
              "       [1],\n",
              "       [1],\n",
              "       [1],\n",
              "       [1],\n",
              "       [1],\n",
              "       [1],\n",
              "       [0],\n",
              "       [1],\n",
              "       [1],\n",
              "       [1],\n",
              "       [0],\n",
              "       [1]])"
            ]
          },
          "metadata": {},
          "execution_count": 45
        }
      ]
    },
    {
      "cell_type": "code",
      "source": [
        "x=dataset.iloc[:,2:4].values"
      ],
      "metadata": {
        "id": "p-PFLMC6oTnZ"
      },
      "execution_count": null,
      "outputs": []
    },
    {
      "cell_type": "code",
      "source": [
        "x.shape"
      ],
      "metadata": {
        "colab": {
          "base_uri": "https://localhost:8080/"
        },
        "id": "eGi-rdWcoisx",
        "outputId": "d9abe2a7-15ea-4dd6-bc14-54c5bcb225df"
      },
      "execution_count": null,
      "outputs": [
        {
          "output_type": "execute_result",
          "data": {
            "text/plain": [
              "(400, 1)"
            ]
          },
          "metadata": {},
          "execution_count": 47
        }
      ]
    },
    {
      "cell_type": "code",
      "source": [
        "y=dataset.iloc[:,-1].values"
      ],
      "metadata": {
        "id": "rnMQr_rcok-8"
      },
      "execution_count": null,
      "outputs": []
    },
    {
      "cell_type": "code",
      "source": [
        "y.shape"
      ],
      "metadata": {
        "colab": {
          "base_uri": "https://localhost:8080/"
        },
        "id": "WV3iuo5rorMu",
        "outputId": "672328f2-33ea-432c-ef8e-537157588038"
      },
      "execution_count": null,
      "outputs": [
        {
          "output_type": "execute_result",
          "data": {
            "text/plain": [
              "(400,)"
            ]
          },
          "metadata": {},
          "execution_count": 49
        }
      ]
    },
    {
      "cell_type": "code",
      "source": [
        "from sklearn.model_selection import train_test_split"
      ],
      "metadata": {
        "id": "Ft5qPdafos47"
      },
      "execution_count": null,
      "outputs": []
    },
    {
      "cell_type": "code",
      "source": [
        "x_train, x_test, y_train, y_test = train_test_split(x,y,test_size=0.20)"
      ],
      "metadata": {
        "id": "ZwgynYfPo4VI"
      },
      "execution_count": null,
      "outputs": []
    },
    {
      "cell_type": "code",
      "source": [
        "x.shape"
      ],
      "metadata": {
        "colab": {
          "base_uri": "https://localhost:8080/"
        },
        "id": "HdyttawKpHe8",
        "outputId": "36b48247-b3be-4942-a230-55e9bacab71d"
      },
      "execution_count": null,
      "outputs": [
        {
          "output_type": "execute_result",
          "data": {
            "text/plain": [
              "(400, 1)"
            ]
          },
          "metadata": {},
          "execution_count": 52
        }
      ]
    },
    {
      "cell_type": "code",
      "source": [
        "x_train.shape"
      ],
      "metadata": {
        "colab": {
          "base_uri": "https://localhost:8080/"
        },
        "id": "nwhWOCyBpKeP",
        "outputId": "928d0ce2-e042-4aa1-870e-f1a7c50e3061"
      },
      "execution_count": null,
      "outputs": [
        {
          "output_type": "execute_result",
          "data": {
            "text/plain": [
              "(320, 1)"
            ]
          },
          "metadata": {},
          "execution_count": 53
        }
      ]
    },
    {
      "cell_type": "code",
      "source": [
        "x_test.shape"
      ],
      "metadata": {
        "colab": {
          "base_uri": "https://localhost:8080/"
        },
        "id": "Xv2QWhfupMUt",
        "outputId": "6d1963db-e2ea-4cd7-c5e3-51c4723775fd"
      },
      "execution_count": null,
      "outputs": [
        {
          "output_type": "execute_result",
          "data": {
            "text/plain": [
              "(80, 1)"
            ]
          },
          "metadata": {},
          "execution_count": 54
        }
      ]
    },
    {
      "cell_type": "code",
      "source": [
        "from sklearn.preprocessing import StandardScaler\n",
        "scaler=StandardScaler()"
      ],
      "metadata": {
        "id": "csWeLPWOpQjT"
      },
      "execution_count": null,
      "outputs": []
    },
    {
      "cell_type": "code",
      "source": [
        "x_train = scaler.fit_transform(x_train)"
      ],
      "metadata": {
        "id": "Ca5Zrq2MpdzY"
      },
      "execution_count": null,
      "outputs": []
    },
    {
      "cell_type": "code",
      "source": [
        "x_train"
      ],
      "metadata": {
        "colab": {
          "base_uri": "https://localhost:8080/"
        },
        "id": "apSaygw1ppbp",
        "outputId": "f87af2ca-9721-4327-cf23-b847b8339fb9"
      },
      "execution_count": null,
      "outputs": [
        {
          "output_type": "execute_result",
          "data": {
            "text/plain": [
              "array([[-0.73884621],\n",
              "       [-0.73884621],\n",
              "       [-0.73884621],\n",
              "       [-0.73884621],\n",
              "       [ 1.35346164],\n",
              "       [-0.73884621],\n",
              "       [-0.73884621],\n",
              "       [-0.73884621],\n",
              "       [ 1.35346164],\n",
              "       [-0.73884621],\n",
              "       [ 1.35346164],\n",
              "       [ 1.35346164],\n",
              "       [-0.73884621],\n",
              "       [-0.73884621],\n",
              "       [-0.73884621],\n",
              "       [-0.73884621],\n",
              "       [ 1.35346164],\n",
              "       [-0.73884621],\n",
              "       [ 1.35346164],\n",
              "       [-0.73884621],\n",
              "       [ 1.35346164],\n",
              "       [ 1.35346164],\n",
              "       [-0.73884621],\n",
              "       [-0.73884621],\n",
              "       [ 1.35346164],\n",
              "       [-0.73884621],\n",
              "       [-0.73884621],\n",
              "       [-0.73884621],\n",
              "       [-0.73884621],\n",
              "       [-0.73884621],\n",
              "       [-0.73884621],\n",
              "       [ 1.35346164],\n",
              "       [-0.73884621],\n",
              "       [ 1.35346164],\n",
              "       [-0.73884621],\n",
              "       [-0.73884621],\n",
              "       [ 1.35346164],\n",
              "       [-0.73884621],\n",
              "       [-0.73884621],\n",
              "       [-0.73884621],\n",
              "       [-0.73884621],\n",
              "       [-0.73884621],\n",
              "       [-0.73884621],\n",
              "       [-0.73884621],\n",
              "       [-0.73884621],\n",
              "       [-0.73884621],\n",
              "       [ 1.35346164],\n",
              "       [-0.73884621],\n",
              "       [-0.73884621],\n",
              "       [-0.73884621],\n",
              "       [-0.73884621],\n",
              "       [-0.73884621],\n",
              "       [ 1.35346164],\n",
              "       [-0.73884621],\n",
              "       [-0.73884621],\n",
              "       [ 1.35346164],\n",
              "       [-0.73884621],\n",
              "       [ 1.35346164],\n",
              "       [-0.73884621],\n",
              "       [ 1.35346164],\n",
              "       [ 1.35346164],\n",
              "       [-0.73884621],\n",
              "       [ 1.35346164],\n",
              "       [-0.73884621],\n",
              "       [-0.73884621],\n",
              "       [-0.73884621],\n",
              "       [-0.73884621],\n",
              "       [-0.73884621],\n",
              "       [-0.73884621],\n",
              "       [-0.73884621],\n",
              "       [-0.73884621],\n",
              "       [ 1.35346164],\n",
              "       [ 1.35346164],\n",
              "       [ 1.35346164],\n",
              "       [-0.73884621],\n",
              "       [ 1.35346164],\n",
              "       [ 1.35346164],\n",
              "       [ 1.35346164],\n",
              "       [-0.73884621],\n",
              "       [-0.73884621],\n",
              "       [-0.73884621],\n",
              "       [ 1.35346164],\n",
              "       [-0.73884621],\n",
              "       [-0.73884621],\n",
              "       [-0.73884621],\n",
              "       [-0.73884621],\n",
              "       [-0.73884621],\n",
              "       [-0.73884621],\n",
              "       [ 1.35346164],\n",
              "       [ 1.35346164],\n",
              "       [-0.73884621],\n",
              "       [-0.73884621],\n",
              "       [-0.73884621],\n",
              "       [-0.73884621],\n",
              "       [-0.73884621],\n",
              "       [ 1.35346164],\n",
              "       [ 1.35346164],\n",
              "       [-0.73884621],\n",
              "       [-0.73884621],\n",
              "       [-0.73884621],\n",
              "       [-0.73884621],\n",
              "       [-0.73884621],\n",
              "       [ 1.35346164],\n",
              "       [-0.73884621],\n",
              "       [-0.73884621],\n",
              "       [-0.73884621],\n",
              "       [ 1.35346164],\n",
              "       [ 1.35346164],\n",
              "       [-0.73884621],\n",
              "       [ 1.35346164],\n",
              "       [ 1.35346164],\n",
              "       [ 1.35346164],\n",
              "       [-0.73884621],\n",
              "       [ 1.35346164],\n",
              "       [-0.73884621],\n",
              "       [-0.73884621],\n",
              "       [-0.73884621],\n",
              "       [-0.73884621],\n",
              "       [ 1.35346164],\n",
              "       [-0.73884621],\n",
              "       [-0.73884621],\n",
              "       [ 1.35346164],\n",
              "       [ 1.35346164],\n",
              "       [-0.73884621],\n",
              "       [ 1.35346164],\n",
              "       [-0.73884621],\n",
              "       [-0.73884621],\n",
              "       [-0.73884621],\n",
              "       [ 1.35346164],\n",
              "       [-0.73884621],\n",
              "       [-0.73884621],\n",
              "       [ 1.35346164],\n",
              "       [ 1.35346164],\n",
              "       [-0.73884621],\n",
              "       [-0.73884621],\n",
              "       [-0.73884621],\n",
              "       [ 1.35346164],\n",
              "       [-0.73884621],\n",
              "       [ 1.35346164],\n",
              "       [ 1.35346164],\n",
              "       [ 1.35346164],\n",
              "       [-0.73884621],\n",
              "       [ 1.35346164],\n",
              "       [ 1.35346164],\n",
              "       [-0.73884621],\n",
              "       [-0.73884621],\n",
              "       [-0.73884621],\n",
              "       [-0.73884621],\n",
              "       [-0.73884621],\n",
              "       [ 1.35346164],\n",
              "       [-0.73884621],\n",
              "       [-0.73884621],\n",
              "       [-0.73884621],\n",
              "       [ 1.35346164],\n",
              "       [ 1.35346164],\n",
              "       [-0.73884621],\n",
              "       [-0.73884621],\n",
              "       [-0.73884621],\n",
              "       [ 1.35346164],\n",
              "       [-0.73884621],\n",
              "       [-0.73884621],\n",
              "       [-0.73884621],\n",
              "       [ 1.35346164],\n",
              "       [-0.73884621],\n",
              "       [ 1.35346164],\n",
              "       [-0.73884621],\n",
              "       [ 1.35346164],\n",
              "       [-0.73884621],\n",
              "       [-0.73884621],\n",
              "       [-0.73884621],\n",
              "       [ 1.35346164],\n",
              "       [-0.73884621],\n",
              "       [ 1.35346164],\n",
              "       [ 1.35346164],\n",
              "       [ 1.35346164],\n",
              "       [-0.73884621],\n",
              "       [-0.73884621],\n",
              "       [-0.73884621],\n",
              "       [ 1.35346164],\n",
              "       [ 1.35346164],\n",
              "       [-0.73884621],\n",
              "       [-0.73884621],\n",
              "       [ 1.35346164],\n",
              "       [-0.73884621],\n",
              "       [-0.73884621],\n",
              "       [-0.73884621],\n",
              "       [-0.73884621],\n",
              "       [-0.73884621],\n",
              "       [-0.73884621],\n",
              "       [-0.73884621],\n",
              "       [-0.73884621],\n",
              "       [ 1.35346164],\n",
              "       [ 1.35346164],\n",
              "       [ 1.35346164],\n",
              "       [-0.73884621],\n",
              "       [ 1.35346164],\n",
              "       [-0.73884621],\n",
              "       [ 1.35346164],\n",
              "       [-0.73884621],\n",
              "       [ 1.35346164],\n",
              "       [ 1.35346164],\n",
              "       [ 1.35346164],\n",
              "       [-0.73884621],\n",
              "       [ 1.35346164],\n",
              "       [-0.73884621],\n",
              "       [ 1.35346164],\n",
              "       [-0.73884621],\n",
              "       [ 1.35346164],\n",
              "       [ 1.35346164],\n",
              "       [-0.73884621],\n",
              "       [-0.73884621],\n",
              "       [ 1.35346164],\n",
              "       [-0.73884621],\n",
              "       [-0.73884621],\n",
              "       [-0.73884621],\n",
              "       [ 1.35346164],\n",
              "       [ 1.35346164],\n",
              "       [ 1.35346164],\n",
              "       [ 1.35346164],\n",
              "       [ 1.35346164],\n",
              "       [-0.73884621],\n",
              "       [-0.73884621],\n",
              "       [ 1.35346164],\n",
              "       [ 1.35346164],\n",
              "       [-0.73884621],\n",
              "       [-0.73884621],\n",
              "       [ 1.35346164],\n",
              "       [-0.73884621],\n",
              "       [-0.73884621],\n",
              "       [-0.73884621],\n",
              "       [-0.73884621],\n",
              "       [ 1.35346164],\n",
              "       [-0.73884621],\n",
              "       [ 1.35346164],\n",
              "       [-0.73884621],\n",
              "       [-0.73884621],\n",
              "       [-0.73884621],\n",
              "       [-0.73884621],\n",
              "       [-0.73884621],\n",
              "       [-0.73884621],\n",
              "       [-0.73884621],\n",
              "       [-0.73884621],\n",
              "       [-0.73884621],\n",
              "       [ 1.35346164],\n",
              "       [-0.73884621],\n",
              "       [ 1.35346164],\n",
              "       [-0.73884621],\n",
              "       [-0.73884621],\n",
              "       [-0.73884621],\n",
              "       [-0.73884621],\n",
              "       [-0.73884621],\n",
              "       [ 1.35346164],\n",
              "       [ 1.35346164],\n",
              "       [-0.73884621],\n",
              "       [ 1.35346164],\n",
              "       [-0.73884621],\n",
              "       [-0.73884621],\n",
              "       [-0.73884621],\n",
              "       [-0.73884621],\n",
              "       [ 1.35346164],\n",
              "       [ 1.35346164],\n",
              "       [-0.73884621],\n",
              "       [ 1.35346164],\n",
              "       [-0.73884621],\n",
              "       [-0.73884621],\n",
              "       [ 1.35346164],\n",
              "       [-0.73884621],\n",
              "       [-0.73884621],\n",
              "       [-0.73884621],\n",
              "       [-0.73884621],\n",
              "       [-0.73884621],\n",
              "       [-0.73884621],\n",
              "       [-0.73884621],\n",
              "       [-0.73884621],\n",
              "       [ 1.35346164],\n",
              "       [-0.73884621],\n",
              "       [-0.73884621],\n",
              "       [ 1.35346164],\n",
              "       [-0.73884621],\n",
              "       [-0.73884621],\n",
              "       [-0.73884621],\n",
              "       [ 1.35346164],\n",
              "       [-0.73884621],\n",
              "       [-0.73884621],\n",
              "       [ 1.35346164],\n",
              "       [-0.73884621],\n",
              "       [-0.73884621],\n",
              "       [ 1.35346164],\n",
              "       [ 1.35346164],\n",
              "       [-0.73884621],\n",
              "       [ 1.35346164],\n",
              "       [ 1.35346164],\n",
              "       [ 1.35346164],\n",
              "       [ 1.35346164],\n",
              "       [ 1.35346164],\n",
              "       [-0.73884621],\n",
              "       [-0.73884621],\n",
              "       [-0.73884621],\n",
              "       [ 1.35346164],\n",
              "       [-0.73884621],\n",
              "       [-0.73884621],\n",
              "       [ 1.35346164],\n",
              "       [-0.73884621],\n",
              "       [-0.73884621],\n",
              "       [-0.73884621],\n",
              "       [ 1.35346164],\n",
              "       [ 1.35346164],\n",
              "       [-0.73884621],\n",
              "       [-0.73884621],\n",
              "       [-0.73884621],\n",
              "       [ 1.35346164],\n",
              "       [ 1.35346164],\n",
              "       [-0.73884621],\n",
              "       [-0.73884621],\n",
              "       [-0.73884621],\n",
              "       [-0.73884621],\n",
              "       [-0.73884621],\n",
              "       [-0.73884621],\n",
              "       [-0.73884621],\n",
              "       [-0.73884621]])"
            ]
          },
          "metadata": {},
          "execution_count": 57
        }
      ]
    },
    {
      "cell_type": "code",
      "source": [
        "x_test = scaler.fit_transform(x_test)\n",
        "x_test"
      ],
      "metadata": {
        "colab": {
          "base_uri": "https://localhost:8080/"
        },
        "id": "64qdpFO3psCA",
        "outputId": "0fda4c34-2e5a-4520-c30d-beda3d93c037"
      },
      "execution_count": null,
      "outputs": [
        {
          "output_type": "execute_result",
          "data": {
            "text/plain": [
              "array([[-0.77459667],\n",
              "       [ 1.29099445],\n",
              "       [-0.77459667],\n",
              "       [ 1.29099445],\n",
              "       [-0.77459667],\n",
              "       [ 1.29099445],\n",
              "       [-0.77459667],\n",
              "       [-0.77459667],\n",
              "       [-0.77459667],\n",
              "       [-0.77459667],\n",
              "       [-0.77459667],\n",
              "       [ 1.29099445],\n",
              "       [-0.77459667],\n",
              "       [-0.77459667],\n",
              "       [-0.77459667],\n",
              "       [ 1.29099445],\n",
              "       [ 1.29099445],\n",
              "       [-0.77459667],\n",
              "       [ 1.29099445],\n",
              "       [ 1.29099445],\n",
              "       [-0.77459667],\n",
              "       [-0.77459667],\n",
              "       [-0.77459667],\n",
              "       [-0.77459667],\n",
              "       [-0.77459667],\n",
              "       [ 1.29099445],\n",
              "       [ 1.29099445],\n",
              "       [ 1.29099445],\n",
              "       [-0.77459667],\n",
              "       [-0.77459667],\n",
              "       [ 1.29099445],\n",
              "       [-0.77459667],\n",
              "       [-0.77459667],\n",
              "       [ 1.29099445],\n",
              "       [ 1.29099445],\n",
              "       [-0.77459667],\n",
              "       [-0.77459667],\n",
              "       [ 1.29099445],\n",
              "       [ 1.29099445],\n",
              "       [-0.77459667],\n",
              "       [-0.77459667],\n",
              "       [-0.77459667],\n",
              "       [ 1.29099445],\n",
              "       [-0.77459667],\n",
              "       [-0.77459667],\n",
              "       [ 1.29099445],\n",
              "       [ 1.29099445],\n",
              "       [ 1.29099445],\n",
              "       [-0.77459667],\n",
              "       [-0.77459667],\n",
              "       [-0.77459667],\n",
              "       [-0.77459667],\n",
              "       [-0.77459667],\n",
              "       [ 1.29099445],\n",
              "       [-0.77459667],\n",
              "       [ 1.29099445],\n",
              "       [-0.77459667],\n",
              "       [-0.77459667],\n",
              "       [-0.77459667],\n",
              "       [-0.77459667],\n",
              "       [ 1.29099445],\n",
              "       [-0.77459667],\n",
              "       [-0.77459667],\n",
              "       [ 1.29099445],\n",
              "       [-0.77459667],\n",
              "       [-0.77459667],\n",
              "       [ 1.29099445],\n",
              "       [-0.77459667],\n",
              "       [ 1.29099445],\n",
              "       [-0.77459667],\n",
              "       [ 1.29099445],\n",
              "       [ 1.29099445],\n",
              "       [-0.77459667],\n",
              "       [-0.77459667],\n",
              "       [-0.77459667],\n",
              "       [-0.77459667],\n",
              "       [ 1.29099445],\n",
              "       [-0.77459667],\n",
              "       [-0.77459667],\n",
              "       [ 1.29099445]])"
            ]
          },
          "metadata": {},
          "execution_count": 58
        }
      ]
    },
    {
      "cell_type": "code",
      "source": [
        "np.sqrt(x_train.shape[0])"
      ],
      "metadata": {
        "colab": {
          "base_uri": "https://localhost:8080/"
        },
        "id": "0CpeMgLYp-A5",
        "outputId": "90f3b394-a525-4729-c693-05157b931f3c"
      },
      "execution_count": null,
      "outputs": [
        {
          "output_type": "execute_result",
          "data": {
            "text/plain": [
              "17.88854381999832"
            ]
          },
          "metadata": {},
          "execution_count": 59
        }
      ]
    },
    {
      "cell_type": "code",
      "source": [
        "k=17"
      ],
      "metadata": {
        "id": "ao7aa7O4qEKz"
      },
      "execution_count": null,
      "outputs": []
    },
    {
      "cell_type": "code",
      "source": [
        "from sklearn.neighbors import KNeighborsClassifier\n",
        "knn = KNeighborsClassifier()"
      ],
      "metadata": {
        "id": "Ax0rT12WqH7F"
      },
      "execution_count": null,
      "outputs": []
    },
    {
      "cell_type": "code",
      "source": [
        "knn.fit(x_train, y_train)"
      ],
      "metadata": {
        "colab": {
          "base_uri": "https://localhost:8080/"
        },
        "id": "NgEzzwXtqRnw",
        "outputId": "e88d8f35-777b-4ebb-c657-798028320759"
      },
      "execution_count": null,
      "outputs": [
        {
          "output_type": "execute_result",
          "data": {
            "text/plain": [
              "KNeighborsClassifier()"
            ]
          },
          "metadata": {},
          "execution_count": 62
        }
      ]
    },
    {
      "cell_type": "code",
      "source": [
        "y_predict1 = knn.predict(x_test)"
      ],
      "metadata": {
        "id": "DEFpp5blqVK8"
      },
      "execution_count": null,
      "outputs": []
    },
    {
      "cell_type": "code",
      "source": [
        "y_predict1.shape"
      ],
      "metadata": {
        "colab": {
          "base_uri": "https://localhost:8080/"
        },
        "id": "Ouqu07KUqbaO",
        "outputId": "d2130377-d32f-4db1-9688-597cbcf41043"
      },
      "execution_count": null,
      "outputs": [
        {
          "output_type": "execute_result",
          "data": {
            "text/plain": [
              "(80,)"
            ]
          },
          "metadata": {},
          "execution_count": 64
        }
      ]
    },
    {
      "cell_type": "code",
      "source": [
        "y_test.shape"
      ],
      "metadata": {
        "colab": {
          "base_uri": "https://localhost:8080/"
        },
        "id": "Bl84SVnkqeIX",
        "outputId": "443df422-838f-485c-df4f-9ed0795740c8"
      },
      "execution_count": null,
      "outputs": [
        {
          "output_type": "execute_result",
          "data": {
            "text/plain": [
              "(80,)"
            ]
          },
          "metadata": {},
          "execution_count": 65
        }
      ]
    },
    {
      "cell_type": "code",
      "source": [
        "from sklearn.metrics import accuracy_score\n",
        "accuracy_score(y_test,y_predict1)"
      ],
      "metadata": {
        "colab": {
          "base_uri": "https://localhost:8080/"
        },
        "id": "Tw7o79LLqgSK",
        "outputId": "516b8dd8-ea49-4e5d-f513-fcbe63c04931"
      },
      "execution_count": null,
      "outputs": [
        {
          "output_type": "execute_result",
          "data": {
            "text/plain": [
              "1.0"
            ]
          },
          "metadata": {},
          "execution_count": 67
        }
      ]
    },
    {
      "cell_type": "code",
      "source": [
        "from sklearn.metrics import confusion_matrix\n",
        "confusion_matrix(y_test, y_predict1)"
      ],
      "metadata": {
        "colab": {
          "base_uri": "https://localhost:8080/"
        },
        "id": "fcWuzkjeqvRc",
        "outputId": "c5173139-9324-48b3-869f-75da8236965c"
      },
      "execution_count": null,
      "outputs": [
        {
          "output_type": "execute_result",
          "data": {
            "text/plain": [
              "array([[50,  0],\n",
              "       [ 0, 30]])"
            ]
          },
          "metadata": {},
          "execution_count": 68
        }
      ]
    },
    {
      "cell_type": "code",
      "source": [
        "accuracy=[]\n",
        "for i in range (1,26):\n",
        "  knn = KNeighborsClassifier(n_neighbors = i)\n",
        "  knn.fit(x_train, y_train)\n",
        "  accuracy.append(accuracy_score(y_test, knn.predict(x_test)))"
      ],
      "metadata": {
        "id": "wzZByoy0rAL0"
      },
      "execution_count": null,
      "outputs": []
    },
    {
      "cell_type": "code",
      "source": [
        "len(accuracy)"
      ],
      "metadata": {
        "colab": {
          "base_uri": "https://localhost:8080/"
        },
        "id": "XkA-YVd_rZMg",
        "outputId": "2824777b-7423-40d8-8c04-0e696b18f948"
      },
      "execution_count": null,
      "outputs": [
        {
          "output_type": "execute_result",
          "data": {
            "text/plain": [
              "25"
            ]
          },
          "metadata": {},
          "execution_count": 70
        }
      ]
    },
    {
      "cell_type": "code",
      "source": [
        "plt.plot(range(1,26),accuracy)"
      ],
      "metadata": {
        "colab": {
          "base_uri": "https://localhost:8080/",
          "height": 282
        },
        "id": "WR7xDL2jrcBp",
        "outputId": "7a1ef49e-296e-4e06-c5c2-8a9ca42b5e29"
      },
      "execution_count": null,
      "outputs": [
        {
          "output_type": "execute_result",
          "data": {
            "text/plain": [
              "[<matplotlib.lines.Line2D at 0x7f8a7d5dac90>]"
            ]
          },
          "metadata": {},
          "execution_count": 72
        },
        {
          "output_type": "display_data",
          "data": {
            "text/plain": [
              "<Figure size 432x288 with 1 Axes>"
            ],
            "image/png": "[encoded data removed]"
          },
          "metadata": {
            "needs_background": "light"
          }
        }
      ]
    },
    {
      "cell_type": "code",
      "source": [
        "knn = KNeighborsClassifier(n_neighbors = 11)\n",
        "knn.fit(x_train, y_train)"
      ],
      "metadata": {
        "colab": {
          "base_uri": "https://localhost:8080/"
        },
        "id": "xlIM4Z6rrliw",
        "outputId": "1e5c8f9f-45da-4050-c0e9-a3479d1f2abe"
      },
      "execution_count": null,
      "outputs": [
        {
          "output_type": "execute_result",
          "data": {
            "text/plain": [
              "KNeighborsClassifier(n_neighbors=11)"
            ]
          },
          "metadata": {},
          "execution_count": 73
        }
      ]
    },
    {
      "cell_type": "code",
      "source": [
        "y_pred = knn.predict(x_test)"
      ],
      "metadata": {
        "id": "ekHcfqaIr2O8"
      },
      "execution_count": null,
      "outputs": []
    },
    {
      "cell_type": "code",
      "source": [
        "accuracy_score(y_test, y_pred)"
      ],
      "metadata": {
        "colab": {
          "base_uri": "https://localhost:8080/"
        },
        "id": "lbb5-vaWr9ZF",
        "outputId": "8204fe8a-226d-43f8-8c1f-1495b40d0bfc"
      },
      "execution_count": null,
      "outputs": [
        {
          "output_type": "execute_result",
          "data": {
            "text/plain": [
              "1.0"
            ]
          },
          "metadata": {},
          "execution_count": 75
        }
      ]
    },
    {
      "cell_type": "code",
      "source": [],
      "metadata": {
        "id": "z7IK8dvrsBsc"
      },
      "execution_count": null,
      "outputs": []
    }
  ]
}
